{
 "cells": [
  {
   "cell_type": "markdown",
   "metadata": {},
   "source": [
    "# Centralni granični teorem"
   ]
  },
  {
   "cell_type": "code",
   "execution_count": 1,
   "metadata": {},
   "outputs": [],
   "source": [
    "import numpy as np; from numpy import *\n",
    "import numpy.random as rnd;\n",
    "import matplotlib.pyplot as plt\n",
    "import ipywidgets as widgets; from ipywidgets import *\n",
    "from shared import *\n",
    "from gauss import *\n",
    "from clt import *\n",
    "from matplotlib import rc\n",
    "rc('text', usetex=True)\n",
    "rc('font', size=14)"
   ]
  },
  {
   "cell_type": "code",
   "execution_count": 2,
   "metadata": {},
   "outputs": [
    {
     "data": {
      "application/vnd.jupyter.widget-view+json": {
       "model_id": "29de105c76814edf85f1ad20602e5590",
       "version_major": 2,
       "version_minor": 0
      },
      "text/plain": [
       "interactive(children=(IntSlider(value=1, description='n', min=1), Dropdown(description='approx', options=('Aut…"
      ]
     },
     "metadata": {},
     "output_type": "display_data"
    }
   ],
   "source": [
    "def visualize_binomial(n, approx):\n",
    "    plot_binomial(n ,approx)\n",
    "    plt.plot()\n",
    "interact(visualize_binomial,\n",
    "         n=IntSlider(1,1,100),\n",
    "         approx=['Auto', 'True', 'False']);"
   ]
  },
  {
   "cell_type": "code",
   "execution_count": 11,
   "metadata": {
    "scrolled": true
   },
   "outputs": [
    {
     "data": {
      "application/vnd.jupyter.widget-view+json": {
       "model_id": "b9648903e15f48b7bd38840378cef9bf",
       "version_major": 2,
       "version_minor": 0
      },
      "text/plain": [
       "interactive(children=(IntSlider(value=10, description='N1', min=1), Output()), _dom_classes=('widget-interact'…"
      ]
     },
     "metadata": {},
     "output_type": "display_data"
    }
   ],
   "source": [
    "def clt(N1):\n",
    "    N = 100000 # Veličina populacije\n",
    "    #N1 = 2 # Veličina slučajnog uzorka\n",
    "    rv_x = rnd.uniform(size=N) # Populacija\n",
    "\n",
    "    N_uzoraka = int(N / N1)\n",
    "\n",
    "    # Niz koji će sadržavati srednje vrijednosti svakog uzorka\n",
    "    means = empty(N_uzoraka);\n",
    "    rv_mean = rv_x.mean()\n",
    "\n",
    "    rnd_pop = rnd.choice(range(N), N, replace=False)\n",
    "\n",
    "    for i in range(N_uzoraka):\n",
    "        means[i] = rv_x[rnd_pop[i*N1:min((i+1)*N1, N)]].mean()\n",
    "\n",
    "    print(rv_mean, means.mean())\n",
    "\n",
    "    plt.hist(rv_x, bins=40, density=True, label='X')\n",
    "    plt.hist(means, bins=40, density=True, label='Means')\n",
    "    plt.plot([rv_mean, rv_mean], array(plt.ylim()))\n",
    "    plt.legend()\n",
    "    plt.show()\n",
    "interact(clt, N1=IntSlider(10, min=1, max=100));"
   ]
  },
  {
   "cell_type": "code",
   "execution_count": 4,
   "metadata": {
    "scrolled": false
   },
   "outputs": [
    {
     "data": {
      "application/vnd.jupyter.widget-view+json": {
       "model_id": "15c70d20233e4c1d920ed9eb233e7b12",
       "version_major": 2,
       "version_minor": 0
      },
      "text/plain": [
       "interactive(children=(IntSlider(value=1000, description='N1', max=10000, min=1000), Output()), _dom_classes=('…"
      ]
     },
     "metadata": {},
     "output_type": "display_data"
    }
   ],
   "source": [
    "interact(clt, N1=IntSlider(min=1000, max=10000));"
   ]
  },
  {
   "cell_type": "code",
   "execution_count": 5,
   "metadata": {},
   "outputs": [],
   "source": [
    "## Osobina konvolucije (TODO name)"
   ]
  },
  {
   "cell_type": "code",
   "execution_count": 13,
   "metadata": {
    "scrolled": true
   },
   "outputs": [
    {
     "data": {
      "application/vnd.jupyter.widget-view+json": {
       "model_id": "6162f422a4634c0c9c1bfb311f0aa93e",
       "version_major": 2,
       "version_minor": 0
      },
      "text/plain": [
       "interactive(children=(IntSlider(value=1, description='N', max=8, min=1), Dropdown(description='tip', options=(…"
      ]
     },
     "metadata": {},
     "output_type": "display_data"
    }
   ],
   "source": [
    "\"\"\"TODO doc\"\"\"\n",
    "def plot_convolution(N, tip='rect'):\n",
    "    # TODO N je Broj konvolucija signala sa samim sobom\n",
    "    \n",
    "    # Generisanje signala\n",
    "    if tip == 'rect':\n",
    "        x = pad(ones(50), (25,25))\n",
    "    elif tip == 'noisy_rect':\n",
    "        x = pad(rnd.uniform(0,1,50), (25,25))\n",
    "    elif tip == 'exp':\n",
    "        x = pad(exp(-0.1*array(range(50))), (25,25))\n",
    "\n",
    "    # Prikaz ulazne sekvence\n",
    "    plt.subplot(2,1,1)\n",
    "    plt.plot(x)\n",
    "    \n",
    "    # Sekvenca se konvoluira sa samom sobom N puta\n",
    "    y = x\n",
    "    for i in range(N):\n",
    "        y = convolve(y, x)\n",
    "        \n",
    "    # Normalizacija konvolucije\n",
    "    y = y / sum(y)\n",
    "    \n",
    "    # Određivanje parametara aproksimacije\n",
    "    n = array(range(len(y)))\n",
    "    mean = sum(n * y)\n",
    "    var = sum((n-mean)**2 * y)\n",
    "    \n",
    "    approx = gaussian(n, mean, var)\n",
    "\n",
    "    plt.subplot(2,1,2)\n",
    "    plt.plot(y, label='Konvolucija');\n",
    "    plt.plot(approx, label='Aproksimacija')\n",
    "    plt.legend()\n",
    "    \n",
    "def visualize_convolution(N, tip):\n",
    "    plot_convolution()\n",
    "    plt.show()\n",
    "    \n",
    "interact(plot_convolution, N=IntSlider(1, min=1, max=8),\n",
    "         tip=['rect', 'noisy_rect', 'exp']);"
   ]
  },
  {
   "cell_type": "markdown",
   "metadata": {},
   "source": [
    "## Obojeno uzorkovanje"
   ]
  },
  {
   "cell_type": "code",
   "execution_count": 7,
   "metadata": {},
   "outputs": [],
   "source": [
    "\"\"\"\n",
    "Izvlačenje uzoraka iz populacije i grafički prikaz.\n",
    "N - Veličina populacije\n",
    "N1 - Veličina uzorka\n",
    "\"\"\"\n",
    "def uzorkovanje(N1, N=1e4, oboji=True, randomiziraj=True, pojedinacni_pdf=True, pdf=False):\n",
    "\n",
    "    Ng = int(N / N1) # Broj uzoraka\n",
    "    N = Ng * N1 # Radi jednostavnosti se N stavlja da bude djeljivo sa N1\n",
    "    x = rnd.rayleigh(0.3, size=N) # Generisanje populacije\n",
    "\n",
    "    if not randomiziraj:\n",
    "        x = sort(x)\n",
    "        \n",
    "    # Formiranje uzoraka\n",
    "    uzorci = x.reshape(Ng, N1)\n",
    "    \n",
    "    plt.figure()\n",
    "    \n",
    "    # Crtanje populacije (različitim bojama ili sve u istoj boji)\n",
    "    plt.subplot(3,1,1)\n",
    "    if oboji:\n",
    "        for i in range(Ng):\n",
    "            plt.scatter(range(N1), uzorci[i])\n",
    "    else:\n",
    "        plt.scatter(range(N), x)\n",
    "\n",
    "    i = 2 # indeks subplot-a [*] \n",
    "\n",
    "    if pojedinacni_pdf:\n",
    "        plt.subplot(3,1,2)\n",
    "        i = i + 1 # [*] koristi se ovdje\n",
    "        if oboji:\n",
    "            plt.hist(transpose(uzorci), stacked=True, density=True)\n",
    "        else:\n",
    "            plt.hist(x, bins=30)\n",
    "        \n",
    "    # Crtanje srednjih vrijednosti uzoraka\n",
    "    if pdf:\n",
    "        plt.subplot(3,1,i) # [*] koristi se ovdje\n",
    "        plt.hist(mean(uzorci, axis=1), bins=40, density=True)\n",
    "        Ex = x.mean() # Očekivana vrijednost od x\n",
    "        plt.plot([Ex, Ex], list(plt.ylim()), label='Sr.vr. populacije')\n",
    "        Eu = uzorci.mean() # Srednja vrijednost očekivanih vrijednosti populacije\n",
    "        plt.plot([Eu, Eu], list(plt.ylim()), label='Sr.vr. oč. vrijednosti uzoraka')\n",
    "        plt.legend()\n",
    "        \n",
    "    plt.show()\n",
    "    "
   ]
  },
  {
   "cell_type": "code",
   "execution_count": 8,
   "metadata": {},
   "outputs": [
    {
     "data": {
      "image/png": "[encoded data removed]",
      "text/plain": [
       "<Figure size 432x288 with 2 Axes>"
      ]
     },
     "metadata": {
      "needs_background": "light"
     },
     "output_type": "display_data"
    },
    {
     "data": {
      "image/png": "[encoded data removed]",
      "text/plain": [
       "<Figure size 432x288 with 2 Axes>"
      ]
     },
     "metadata": {
      "needs_background": "light"
     },
     "output_type": "display_data"
    }
   ],
   "source": [
    "uzorkovanje(25, 100, oboji=False)\n",
    "uzorkovanje(25, 100)"
   ]
  },
  {
   "cell_type": "code",
   "execution_count": 9,
   "metadata": {},
   "outputs": [
    {
     "data": {
      "application/vnd.jupyter.widget-view+json": {
       "model_id": "2da16d5c80e04a0285a0aecf51268f55",
       "version_major": 2,
       "version_minor": 0
      },
      "text/plain": [
       "interactive(children=(IntSlider(value=20, description='N1', max=1000, min=1), IntSlider(value=10000, descripti…"
      ]
     },
     "metadata": {},
     "output_type": "display_data"
    }
   ],
   "source": [
    "interact(uzorkovanje,\n",
    "         N1=IntSlider(20, 1,1000),\n",
    "         N=IntSlider(10000, 1,1e5),\n",
    "         oboji=fixed(False),\n",
    "         randomiziraj=True,\n",
    "         pojedinacni_pdf=fixed(False),\n",
    "         pdf=fixed(True)\n",
    "        );"
   ]
  },
  {
   "cell_type": "code",
   "execution_count": 10,
   "metadata": {},
   "outputs": [
    {
     "data": {
      "application/vnd.jupyter.widget-view+json": {
       "model_id": "290f8b79725f412fbb92086fdb2f043d",
       "version_major": 2,
       "version_minor": 0
      },
      "text/plain": [
       "interactive(children=(IntSlider(value=2, description='n', max=40, min=2, step=2), Output()), _dom_classes=('wi…"
      ]
     },
     "metadata": {},
     "output_type": "display_data"
    }
   ],
   "source": [
    "# Fourierova transformacija\n",
    "import scipy.fft as fft\n",
    "\n",
    "def fun(n):\n",
    "    w = linspace(-10, 10, 10000)\n",
    "    X = sinc(w)\n",
    "    Y = X**n\n",
    "\n",
    "    plt.plot(w, approx_gaussian(w, Y), label='Aproksimacija Gaussovom')\n",
    "    plt.plot(w, Y, label='Fourierova transformacija')\n",
    "    plt.legend(bbox_to_anchor=(0.55,1), framealpha=1); plt.show()\n",
    "interact(fun, n=widgets.IntSlider(2, 2, 40, step=2));"
   ]
  }
 ],
 "metadata": {
  "kernelspec": {
   "display_name": "Python 3",
   "language": "python",
   "name": "python3"
  },
  "language_info": {
   "codemirror_mode": {
    "name": "ipython",
    "version": 3
   },
   "file_extension": ".py",
   "mimetype": "text/x-python",
   "name": "python",
   "nbconvert_exporter": "python",
   "pygments_lexer": "ipython3",
   "version": "3.9.0"
  }
 },
 "nbformat": 4,
 "nbformat_minor": 4
}
