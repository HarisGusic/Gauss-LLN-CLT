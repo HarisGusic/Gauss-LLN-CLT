{
 "cells": [
  {
   "cell_type": "markdown",
   "metadata": {},
   "source": [
    "# Centralni granični teorem"
   ]
  },
  {
   "cell_type": "code",
   "execution_count": 1,
   "metadata": {},
   "outputs": [],
   "source": [
    "import numpy as np; from numpy import *\n",
    "import numpy.random as rnd;\n",
    "import matplotlib.pyplot as plt\n",
    "import ipywidgets as widgets; from ipywidgets import *\n",
    "from shared import *\n",
    "from gauss import *\n",
    "from clt import *\n",
    "from matplotlib import rc\n",
    "rc('text', usetex=True)\n",
    "rc('font', size=14)"
   ]
  },
  {
   "cell_type": "markdown",
   "metadata": {},
   "source": [
    "## Binomna raspodjela"
   ]
  },
  {
   "cell_type": "code",
   "execution_count": 2,
   "metadata": {},
   "outputs": [
    {
     "data": {
      "application/vnd.jupyter.widget-view+json": {
       "model_id": "988ed608935543eb9089cd066202b0be",
       "version_major": 2,
       "version_minor": 0
      },
      "text/plain": [
       "interactive(children=(IntSlider(value=1, description='n', min=1), Dropdown(description='approx', options=('Aut…"
      ]
     },
     "metadata": {},
     "output_type": "display_data"
    }
   ],
   "source": [
    "def visualize_binomial(n, approx):\n",
    "    plot_binomial(n ,approx)\n",
    "    plt.plot()\n",
    "interact(visualize_binomial,\n",
    "         n=IntSlider(1,1,100),\n",
    "         approx=['Auto', 'True', 'False']);"
   ]
  },
  {
   "cell_type": "markdown",
   "metadata": {},
   "source": [
    "## Degeneracija normalne raspodjele u delta funkciju"
   ]
  },
  {
   "cell_type": "code",
   "execution_count": 3,
   "metadata": {},
   "outputs": [
    {
     "data": {
      "application/vnd.jupyter.widget-view+json": {
       "model_id": "41e243ad5fba4dd3bb2e471de5ffe6d8",
       "version_major": 2,
       "version_minor": 0
      },
      "text/plain": [
       "interactive(children=(IntSlider(value=1, description='n', max=200, min=1), Output()), _dom_classes=('widget-in…"
      ]
     },
     "metadata": {},
     "output_type": "display_data"
    }
   ],
   "source": [
    "def visualize_degenerate(n):\n",
    "    plot_degenerate([n])\n",
    "    plt.show()\n",
    "\n",
    "interact(visualize_degenerate, n=IntSlider(1, min=1, max=200));"
   ]
  },
  {
   "cell_type": "markdown",
   "metadata": {},
   "source": [
    "## Višestruka konvolucija signala"
   ]
  },
  {
   "cell_type": "code",
   "execution_count": 4,
   "metadata": {
    "scrolled": false
   },
   "outputs": [
    {
     "data": {
      "application/vnd.jupyter.widget-view+json": {
       "model_id": "318a22ec0d924e39819151b3a0812ed1",
       "version_major": 2,
       "version_minor": 0
      },
      "text/plain": [
       "interactive(children=(IntSlider(value=1, description='n', max=20, min=1), Dropdown(description='tip', options=…"
      ]
     },
     "metadata": {},
     "output_type": "display_data"
    }
   ],
   "source": [
    "def visualize_convolution(n, tip):\n",
    "    # Ulazna funkcija\n",
    "    plt.subplot(2,1,1)\n",
    "    f = gen_fun(tip)\n",
    "    plot_fun(f)\n",
    "    \n",
    "    # Konvolucija\n",
    "    plt.subplot(2,1,2)\n",
    "    plot_convolution(f, n)\n",
    "    plt.tight_layout(); plt.show()\n",
    "    \n",
    "# Napomena: Povećavanje n iznad preporučenog maksimuma može dovesti do\n",
    "# numeričkih problema\n",
    "interact(visualize_convolution, n=IntSlider(1, min=1, max=20),\n",
    "         tip=['rect', 'noise_uniform', 'noise_exp', 'exp', 'exp2']);"
   ]
  },
  {
   "cell_type": "markdown",
   "metadata": {},
   "source": [
    "## Obojeno uzorkovanje"
   ]
  },
  {
   "cell_type": "code",
   "execution_count": 5,
   "metadata": {},
   "outputs": [],
   "source": [
    "\"\"\"\n",
    "    Izvlačenje uzoraka iz populacije i grafički prikaz.\n",
    "    \n",
    "    N - Veličina populacije\n",
    "    N1 - Veličina uzorka\n",
    "\"\"\"\n",
    "def plot_uzorkovanje(Ns, N=1e4, tip='uniform',\n",
    "                pop=True, hist_pop=True, hist=False,\n",
    "                oboji=True, randomiziraj=True):\n",
    "\n",
    "    N1 = int(N / Ns) # Veličina jednog uzorka\n",
    "    N = Ns * N1 # Radi izbjegavanja problema sa dimenzijama matrica\n",
    "    X = rnd.uniform(100,1, size=N) # Generisanje populacije\n",
    "\n",
    "    if not randomiziraj:\n",
    "        X = sort(X)\n",
    "        \n",
    "    # Formiranje slučajnih uzoraka\n",
    "    indexi_uzoraka = rnd.choice(range(N), (Ns, N1), replace=False)\n",
    "    uzorci = X.take(indexi_uzoraka)\n",
    "    \n",
    "    i = 1 # indeks subplot-a [*] \n",
    "    plt.figure()\n",
    "    \n",
    "    # Prikaz populacije zajedno sa slučajnim uzorcima\n",
    "    if pop:\n",
    "        plt.subplot(3,1,i); i += 1 # [*] koristi se ovdje\n",
    "        if oboji:\n",
    "            for i in range(Ns):\n",
    "                plt.scatter(indexi_uzoraka[i], uzorci[i])\n",
    "        else:\n",
    "            plt.scatter(range(N), X)\n",
    "        \n",
    "    \n",
    "    # Prikaz histograma populacije\n",
    "    if hist_pop:\n",
    "        plt.subplot(3,1,2); i += 1 # [*] koristi se ovdje\n",
    "        if oboji:\n",
    "            plt.hist(uzorci.T, stacked=True, density=True)\n",
    "        else:\n",
    "            plt.hist(X, bins=30)\n",
    "            \n",
    "    # Prikaz histograma srednjih vrijednosti uzoraka\n",
    "    if hist:\n",
    "        # Niz srednjih vrijednosti uzoraka\n",
    "        S = mean(uzorci, axis=1)\n",
    "        plt.subplot(3,1,i) # [*] koristi se ovdje\n",
    "        f, x, _ = plt.hist(S, bins=20, density=True)\n",
    "        x = (x[:-1] + x[1:]) / 2\n",
    "        try:\n",
    "            plt.plot(x, approx_gaussian(x, f)) # Normalna aproksimacija\n",
    "        except: plt.show()\n",
    "        \n",
    "    plt.tight_layout()\n",
    "    plt.show()"
   ]
  },
  {
   "cell_type": "code",
   "execution_count": 6,
   "metadata": {
    "scrolled": false
   },
   "outputs": [
    {
     "data": {
      "application/vnd.jupyter.widget-view+json": {
       "model_id": "5fdb885bf76f4fcdb6b667b07ba01364",
       "version_major": 2,
       "version_minor": 0
      },
      "text/plain": [
       "interactive(children=(IntSlider(value=20, description='Ns', max=1000, min=1), IntSlider(value=10000, descripti…"
      ]
     },
     "metadata": {},
     "output_type": "display_data"
    }
   ],
   "source": [
    "interact(plot_uzorkovanje,\n",
    "         Ns=IntSlider(20, 1,1000),\n",
    "         N=IntSlider(10000, 1,1e5),\n",
    "         tip=['uniform', 'normal', 'exponential'],\n",
    "         oboji=False,\n",
    "         randomiziraj=True,\n",
    "         pop=fixed(True),\n",
    "         hist_pop=fixed(True),\n",
    "         hist=fixed(True)\n",
    "        );"
   ]
  },
  {
   "cell_type": "markdown",
   "metadata": {},
   "source": [
    "## Bonus"
   ]
  },
  {
   "cell_type": "code",
   "execution_count": 7,
   "metadata": {},
   "outputs": [
    {
     "data": {
      "application/vnd.jupyter.widget-view+json": {
       "model_id": "ee29e1647e8e46feb14bfeafca3e760c",
       "version_major": 2,
       "version_minor": 0
      },
      "text/plain": [
       "interactive(children=(IntSlider(value=2, description='n', max=10, min=2, step=2), Dropdown(description='tip', …"
      ]
     },
     "metadata": {},
     "output_type": "display_data"
    }
   ],
   "source": [
    "# Fourierova transformacija\n",
    "import scipy.fft as fft\n",
    "\n",
    "def fft_n(n, tip):\n",
    "    x = gen_fun(tip)\n",
    "    w = arange(-50, 50)\n",
    "    \n",
    "    X = sinc(w)\n",
    "    X = abs(fft.fftshift(fft.fft(x)))\n",
    "    Y = X**n / 100\n",
    "    Y_approx = approx_gaussian(w, Y)\n",
    "\n",
    "    plt.subplot(2,1,1)\n",
    "    plt.plot(arange(-50, 50), x)\n",
    "    plt.subplot(2,1,2)\n",
    "    plt.plot(w, Y_approx, label='Aproksimacija')\n",
    "    plt.plot(w, abs(Y), label='F.T.')\n",
    "    plt.legend(bbox_to_anchor=(0.55,1), framealpha=1); plt.show()\n",
    "    \n",
    "interact(fft_n,\n",
    "         n=widgets.IntSlider(2, 2, 10, step=2),\n",
    "         tip=['rect', 'noise_uniform', 'noise_exp', 'exp']\n",
    "         );"
   ]
  }
 ],
 "metadata": {
  "kernelspec": {
   "display_name": "Python 3",
   "language": "python",
   "name": "python3"
  },
  "language_info": {
   "codemirror_mode": {
    "name": "ipython",
    "version": 3
   },
   "file_extension": ".py",
   "mimetype": "text/x-python",
   "name": "python",
   "nbconvert_exporter": "python",
   "pygments_lexer": "ipython3",
   "version": "3.9.0"
  }
 },
 "nbformat": 4,
 "nbformat_minor": 4
}
