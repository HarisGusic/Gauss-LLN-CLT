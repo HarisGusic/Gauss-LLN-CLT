{
 "cells": [
  {
   "cell_type": "code",
   "execution_count": 1,
   "metadata": {},
   "outputs": [],
   "source": [
    "import numpy as np; import matplotlib.pyplot as plt;\n",
    "import ipywidgets as widgets; from ipywidgets import interact;\n",
    "from ipywidgets.widgets import *\n",
    "import numpy.random as rnd; from numpy import *;\n",
    "from shared import *\n",
    "from gauss import *\n",
    "from matplotlib import rc\n",
    "rc('text', usetex=True)\n",
    "rc('font', size=12)"
   ]
  },
  {
   "cell_type": "code",
   "execution_count": 2,
   "metadata": {},
   "outputs": [
    {
     "data": {
      "application/vnd.jupyter.widget-view+json": {
       "model_id": "7e94a79dcd464c8c9b9065b44360ee9a",
       "version_major": 2,
       "version_minor": 0
      },
      "text/plain": [
       "interactive(children=(FloatSlider(value=0.0, description='mean', max=5.0, min=-5.0), FloatSlider(value=1.0, de…"
      ]
     },
     "metadata": {},
     "output_type": "display_data"
    }
   ],
   "source": [
    "def vizualizacija_gauss(mean, var, N):\n",
    "    plot_gaussian(mean, var, N)\n",
    "    plt.show()\n",
    "interact(plot_gaussian,\n",
    "         mean=FloatSlider(0, min=-5, max=5),\n",
    "         var=FloatSlider(1, min=0.8, max=5),\n",
    "         N=IntSlider(70, min=25, max=10000));"
   ]
  },
  {
   "cell_type": "code",
   "execution_count": 3,
   "metadata": {
    "scrolled": false
   },
   "outputs": [
    {
     "data": {
      "application/vnd.jupyter.widget-view+json": {
       "model_id": "8939252142fa482798e8233a11ca971f",
       "version_major": 2,
       "version_minor": 0
      },
      "text/plain": [
       "interactive(children=(FloatSlider(value=0.0, description='meanX', max=3.0, min=-3.0, step=0.05), FloatSlider(v…"
      ]
     },
     "metadata": {},
     "output_type": "display_data"
    }
   ],
   "source": [
    "def vizualizacija_multivar_gauss(meanX, meanY, varX, varY, covXY, N=100):\n",
    "    mean = [meanX, meanY]\n",
    "    cov = [[varX, covXY],[covXY, varY]]\n",
    "    plot_multivariate_gaussian(mean, cov, N)\n",
    "    plt.show()\n",
    "    \n",
    "meanX=FloatSlider(0, min=-3, max=3, step=0.05)\n",
    "meanY=FloatSlider(0, min=-3, max=3, step=0.05)\n",
    "varX=FloatSlider(1, min=0.001, max=20, step=0.05)\n",
    "varY=FloatSlider(1, min=0.001, max=20, step=0.05)\n",
    "covXY=FloatSlider(0, min=-0.9999, max=0.9999, step=0.05)\n",
    "N=IntSlider(30, min=1, max=200)\n",
    "\n",
    "def on_change(change):\n",
    "    val = sqrt(varX.value * varY.value)\n",
    "    covXY.min = -val + 0.001\n",
    "    covXY.max = val - 0.001\n",
    "    \n",
    "varX.observe(on_change, 'value')\n",
    "varY.observe(on_change, 'value')\n",
    "    \n",
    "interact(vizualizacija_multivar_gauss, meanX=meanX, meanY=meanY,\n",
    "         varX=varX, varY=varY, covXY=covXY, N=N);"
   ]
  }
 ],
 "metadata": {
  "kernelspec": {
   "display_name": "Python 3",
   "language": "python",
   "name": "python3"
  },
  "language_info": {
   "codemirror_mode": {
    "name": "ipython",
    "version": 3
   },
   "file_extension": ".py",
   "mimetype": "text/x-python",
   "name": "python",
   "nbconvert_exporter": "python",
   "pygments_lexer": "ipython3",
   "version": "3.9.0"
  }
 },
 "nbformat": 4,
 "nbformat_minor": 4
}
