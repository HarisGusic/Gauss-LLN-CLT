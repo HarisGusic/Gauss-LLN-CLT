{
 "cells": [
  {
   "cell_type": "code",
   "execution_count": 1,
   "metadata": {},
   "outputs": [],
   "source": [
    "import numpy as np; import matplotlib.pyplot as plt;\n",
    "import ipywidgets as widgets; from ipywidgets import *;\n",
    "import numpy.random as rnd; from numpy import *;\n",
    "\n",
    "from shared import *\n",
    "from lln import *\n",
    "\n",
    "from matplotlib import rc\n",
    "rc('text', usetex=True)\n",
    "rc('font', size=12)"
   ]
  },
  {
   "cell_type": "code",
   "execution_count": 2,
   "metadata": {},
   "outputs": [
    {
     "data": {
      "application/vnd.jupyter.widget-view+json": {
       "model_id": "74840157b8a944958c4e07a8bb5cf04e",
       "version_major": 2,
       "version_minor": 0
      },
      "text/plain": [
       "interactive(children=(IntSlider(value=100, description='N_sekv', max=50000, min=100, step=10), IntSlider(value…"
      ]
     },
     "metadata": {},
     "output_type": "display_data"
    }
   ],
   "source": [
    "def visualize_lln(N_sekv, N_realiz, tip='uniform', mean=0, std=4, colored=True):\n",
    "    X_n = gen_rnd_sequence(N_sekv, N_realiz, tip, mean, std)\n",
    "    plot_lln(X_n, mean if tip != 'exponential' else std,\n",
    "             colored=colored)\n",
    "    plt.show()\n",
    "\n",
    "interact(visualize_lln,\n",
    "         N_sekv=IntSlider(100, min=100, max=50000, step=10),\n",
    "         N_realiz=IntSlider(3, min=1, max=50),\n",
    "         tip=['uniform', 'exponential', 'normal'],\n",
    "         mean=FloatSlider(0, min=-2, max=2),\n",
    "         std=FloatSlider(1, min=0.01, max=5),\n",
    "         colored=True);"
   ]
  },
  {
   "cell_type": "code",
   "execution_count": 3,
   "metadata": {},
   "outputs": [
    {
     "data": {
      "application/vnd.jupyter.widget-view+json": {
       "model_id": "8e786e3a0f1242f582937acf588e7e5b",
       "version_major": 2,
       "version_minor": 0
      },
      "text/plain": [
       "interactive(children=(IntSlider(value=1000, description='N', max=50000, min=1), Output()), _dom_classes=('widg…"
      ]
     },
     "metadata": {},
     "output_type": "display_data"
    }
   ],
   "source": [
    "\"\"\"\n",
    "Vizualizacija zakona velikih brojeva.\n",
    "Generiše se N uzoraka iz normalne raspodjele, te se dobiveni histogram\n",
    "upoređuje sa idealnom funkcijom gustine vjerovatnoće.\n",
    "\"\"\"\n",
    "def ZVB_vizualizacija(N):\n",
    "    x = rnd.normal(size=N) # Generisanje slučajne varijable\n",
    "\n",
    "    # Generisanje idealne pdf i histograma\n",
    "    pdf, xedg = histogram(x, bins=100)\n",
    "    x_axis = linspace(xedg[0], xedg[-1], 1000)\n",
    "    pdf_ideal = exp(-x_axis**2 / 2) / sqrt(2*pi)\n",
    "\n",
    "    # Plotanje uzoraka\n",
    "    plt.subplot(2,1,1)\n",
    "    plt.title('Uzorci'); plt.xlabel('Red. br. uzorka'); plt.ylabel('Vrijednost')\n",
    "    plt.scatter(range(N), x, s=1)\n",
    "    \n",
    "    plt.tight_layout(h_pad=2.5) # da ne bi došlo do preklapanja naslova i osa\n",
    "    \n",
    "    # Prikazivanje idealne pdf i histograma na istom grafiku\n",
    "    plt.subplot(2,1,2)\n",
    "    plt.hist(x, bins=100, density=True, label='Histogram')\n",
    "    plt.plot(x_axis, pdf_ideal, label='Idealna pdf')\n",
    "    plt.title('Raspodjela'); plt.xlabel('x'); plt.ylabel('p(x)'); plt.legend()\n",
    "    plt.show()\n",
    "    \n",
    "interact(ZVB_vizualizacija, N=IntSlider(1000, min=1, max=50000));"
   ]
  },
  {
   "cell_type": "code",
   "execution_count": 4,
   "metadata": {},
   "outputs": [
    {
     "ename": "NameError",
     "evalue": "name 'uzorkovanje' is not defined",
     "output_type": "error",
     "traceback": [
      "\u001b[0;31m---------------------------------------------------------------------------\u001b[0m",
      "\u001b[0;31mNameError\u001b[0m                                 Traceback (most recent call last)",
      "\u001b[0;32m<ipython-input-4-b4c85b56b46b>\u001b[0m in \u001b[0;36m<module>\u001b[0;34m\u001b[0m\n\u001b[0;32m----> 1\u001b[0;31m interact(uzorkovanje,\n\u001b[0m\u001b[1;32m      2\u001b[0m          \u001b[0mN1\u001b[0m\u001b[0;34m=\u001b[0m\u001b[0mIntSlider\u001b[0m\u001b[0;34m(\u001b[0m\u001b[0;36m20\u001b[0m\u001b[0;34m,\u001b[0m \u001b[0;36m1\u001b[0m\u001b[0;34m,\u001b[0m\u001b[0;36m1000\u001b[0m\u001b[0;34m)\u001b[0m\u001b[0;34m,\u001b[0m\u001b[0;34m\u001b[0m\u001b[0;34m\u001b[0m\u001b[0m\n\u001b[1;32m      3\u001b[0m          \u001b[0mNg\u001b[0m\u001b[0;34m=\u001b[0m\u001b[0mIntSlider\u001b[0m\u001b[0;34m(\u001b[0m\u001b[0;36m500\u001b[0m\u001b[0;34m,\u001b[0m \u001b[0;36m1\u001b[0m\u001b[0;34m,\u001b[0m\u001b[0;36m1000\u001b[0m\u001b[0;34m)\u001b[0m\u001b[0;34m,\u001b[0m\u001b[0;34m\u001b[0m\u001b[0;34m\u001b[0m\u001b[0m\n\u001b[1;32m      4\u001b[0m          \u001b[0moboji\u001b[0m\u001b[0;34m=\u001b[0m\u001b[0mfixed\u001b[0m\u001b[0;34m(\u001b[0m\u001b[0;32mFalse\u001b[0m\u001b[0;34m)\u001b[0m\u001b[0;34m,\u001b[0m\u001b[0;34m\u001b[0m\u001b[0;34m\u001b[0m\u001b[0m\n\u001b[1;32m      5\u001b[0m          \u001b[0mrandomiziraj\u001b[0m\u001b[0;34m=\u001b[0m\u001b[0;32mTrue\u001b[0m\u001b[0;34m,\u001b[0m\u001b[0;34m\u001b[0m\u001b[0;34m\u001b[0m\u001b[0m\n",
      "\u001b[0;31mNameError\u001b[0m: name 'uzorkovanje' is not defined"
     ]
    }
   ],
   "source": [
    "interact(uzorkovanje,\n",
    "         N1=IntSlider(20, 1,1000),\n",
    "         Ng=IntSlider(500, 1,1000),\n",
    "         oboji=fixed(False),\n",
    "         randomiziraj=True,\n",
    "         pojedinacni_pdf=fixed(False),\n",
    "         pdf=fixed(True)\n",
    "        );"
   ]
  }
 ],
 "metadata": {
  "kernelspec": {
   "display_name": "Python 3",
   "language": "python",
   "name": "python3"
  },
  "language_info": {
   "codemirror_mode": {
    "name": "ipython",
    "version": 3
   },
   "file_extension": ".py",
   "mimetype": "text/x-python",
   "name": "python",
   "nbconvert_exporter": "python",
   "pygments_lexer": "ipython3",
   "version": "3.9.0"
  }
 },
 "nbformat": 4,
 "nbformat_minor": 4
}
