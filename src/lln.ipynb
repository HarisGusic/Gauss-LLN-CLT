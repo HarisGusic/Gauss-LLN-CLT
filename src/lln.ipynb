{
 "cells": [
  {
   "cell_type": "code",
   "execution_count": 1,
   "metadata": {},
   "outputs": [],
   "source": [
    "import numpy as np; import matplotlib.pyplot as plt;\n",
    "import ipywidgets as widgets; from ipywidgets import *;\n",
    "import numpy.random as rnd; from numpy import *;\n",
    "\n",
    "from shared import *\n",
    "from lln import *\n",
    "\n",
    "from matplotlib import rc\n",
    "rc('text', usetex=True)\n",
    "rc('font', size=12)"
   ]
  },
  {
   "cell_type": "code",
   "execution_count": 2,
   "metadata": {},
   "outputs": [
    {
     "data": {
      "application/vnd.jupyter.widget-view+json": {
       "model_id": "5ff0f83e29af4210bd7e4c41dfd33451",
       "version_major": 2,
       "version_minor": 0
      },
      "text/plain": [
       "interactive(children=(IntSlider(value=100, description='N_sekv', max=50000, min=100, step=10), IntSlider(value…"
      ]
     },
     "metadata": {},
     "output_type": "display_data"
    }
   ],
   "source": [
    "def visualize_lln(N_sekv, N_realiz, tip='uniform', mean=0, std=4, colored=True):\n",
    "    X_n = gen_rnd_sequence(N_sekv, N_realiz, tip, mean, std)\n",
    "    plot_lln(X_n, mean if tip != 'exponential' else std,\n",
    "             colored=colored)\n",
    "    plt.show()\n",
    "\n",
    "interact(visualize_lln,\n",
    "         N_sekv=IntSlider(100, min=100, max=50000, step=10),\n",
    "         N_realiz=IntSlider(3, min=1, max=50),\n",
    "         tip=['uniform', 'exponential', 'normal',\n",
    "              'normal_converging_var', 'normal_diverging_var'],\n",
    "         mean=FloatSlider(0, min=-2, max=2),\n",
    "         std=FloatSlider(1, min=0.01, max=5),\n",
    "         colored=True);"
   ]
  },
  {
   "cell_type": "code",
   "execution_count": 3,
   "metadata": {},
   "outputs": [
    {
     "data": {
      "application/vnd.jupyter.widget-view+json": {
       "model_id": "c88405611e834f2f98ef4578e30bb7a3",
       "version_major": 2,
       "version_minor": 0
      },
      "text/plain": [
       "interactive(children=(Dropdown(description='tip', options=('uniform', 'exponential', 'normal'), value='uniform…"
      ]
     },
     "metadata": {},
     "output_type": "display_data"
    }
   ],
   "source": [
    "def visualize_hist(tip, N, bins=10):\n",
    "    plot_hist(tip, N, bins=bins)\n",
    "    plt.show()\n",
    "    \n",
    "interact(visualize_hist,\n",
    "         tip=['uniform', 'exponential', 'normal'],\n",
    "         N=IntSlider(1000, min=2, max=100000),\n",
    "         bins=IntSlider(10, min=1, max=100));"
   ]
  }
 ],
 "metadata": {
  "kernelspec": {
   "display_name": "Python 3",
   "language": "python",
   "name": "python3"
  },
  "language_info": {
   "codemirror_mode": {
    "name": "ipython",
    "version": 3
   },
   "file_extension": ".py",
   "mimetype": "text/x-python",
   "name": "python",
   "nbconvert_exporter": "python",
   "pygments_lexer": "ipython3",
   "version": "3.9.0"
  }
 },
 "nbformat": 4,
 "nbformat_minor": 4
}
