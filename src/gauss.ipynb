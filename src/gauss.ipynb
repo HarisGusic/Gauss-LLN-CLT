{
 "cells": [
  {
   "cell_type": "code",
   "execution_count": 1,
   "metadata": {},
   "outputs": [],
   "source": [
    "import numpy as np; import matplotlib.pyplot as plt;\n",
    "import ipywidgets as widgets; from ipywidgets import interact;\n",
    "from ipywidgets.widgets import *\n",
    "import numpy.random as rnd; from numpy import *;\n",
    "from shared import *;\n",
    "from matplotlib import rc;\n",
    "rc('text', usetex=True)"
   ]
  },
  {
   "cell_type": "code",
   "execution_count": 82,
   "metadata": {},
   "outputs": [
    {
     "data": {
      "application/vnd.jupyter.widget-view+json": {
       "model_id": "1dcc6129ffcf4599a5a026202d207b98",
       "version_major": 2,
       "version_minor": 0
      },
      "text/plain": [
       "interactive(children=(FloatSlider(value=0.0, description='mean', max=5.0, min=-5.0), FloatSlider(value=1.0, de…"
      ]
     },
     "metadata": {},
     "output_type": "display_data"
    }
   ],
   "source": [
    "def vizualizacija_gauss(mean, var, N=100):\n",
    "    x = linspace(-8, 8, N)\n",
    "    p = gaussian(x, mean, var)\n",
    "    val_at_var = gaussian(mean + var, mean, var) # Vrijednost raspodjele u tački x=var\n",
    "    \n",
    "    # Crtanje raspodjele\n",
    "    plt.plot(x, p, label='$p_X(x)$')\n",
    "    # Vizualizacija očekivane vrijednosti\n",
    "    plt.plot([mean, mean], list(plt.ylim()), label='Očekivana vrijednost')\n",
    "    # Vizualizacija varijanse\n",
    "    plt.annotate(xy=(mean, val_at_var), xytext=(mean+var, val_at_var),\n",
    "                 text='', arrowprops=dict(arrowstyle='<->', shrinkA=0, shrinkB=0))\n",
    "    plt.plot([mean, mean+var], [val_at_var, val_at_var],\n",
    "             linewidth=0.8, c='k', label='Varijansa')\n",
    "    \n",
    "    plt.xlabel('$x$'); plt.legend(); plt.show()\n",
    "    \n",
    "interact(vizualizacija_gauss,\n",
    "         mean=FloatSlider(0, min=-5, max=5),\n",
    "         var=FloatSlider(1, min=0.8, max=5),\n",
    "         N=IntSlider(70, min=25, max=10000));"
   ]
  },
  {
   "cell_type": "code",
   "execution_count": 79,
   "metadata": {},
   "outputs": [],
   "source": [
    "def plot_multivariate_gaussian(mean, cov, N=100):\n",
    "    # Generisanje vektora ulaznih varijabli\n",
    "    \n",
    "    elipsa = cov_elipsa(mean, cov)\n",
    "    # Određivanje prihvatljivih granica oblasti\n",
    "    xlim = [mean[0]-elipsa[2]*1.8, mean[0]+elipsa[2]*1.8]\n",
    "    ylim = [mean[1]-elipsa[3]*1.8, mean[1]+elipsa[3]*1.8]\n",
    "    \n",
    "    # Generisanje vektora koordinata\n",
    "    x = linspace(xlim[0], xlim[1], N)\n",
    "    y = linspace(ylim[0], ylim[1], N)\n",
    "    _X,_Y = meshgrid(x, y)\n",
    "    X = _X.flatten(); Y = _Y.flatten()\n",
    "\n",
    "    # Računanje raspodjele\n",
    "    p = multivariate_gaussian(stack((X,Y)), mean, cov)\n",
    "    \n",
    "    #################\n",
    "\n",
    "    fig = plt.figure(figsize=(4,8.7))\n",
    "    ax = fig.add_subplot(2,1,1, projection='3d')\n",
    "    \n",
    "    # Crtanje raspodjele\n",
    "    ax.plot_surface(_X, _Y, p.reshape(N,N), cmap='hot')\n",
    "    \n",
    "    # Crtanje marginalnih raspodjela\n",
    "    ax.plot3D(X, ylim[1]*ones_like(X),\n",
    "              gaussian(X, mean[0], cov[0][0]) * sqrt(cov[0][0]/(2*pi*linalg.det(cov))),\n",
    "              c='orchid', label='$p_X(x)$')\n",
    "    ax.plot3D(xlim[0]*ones_like(Y), Y,\n",
    "              gaussian(Y, mean[1], cov[1][1]) * sqrt(cov[1][1]/(2*pi*linalg.det(cov))),\n",
    "              c='dodgerblue', label='$p_Y(y)$')\n",
    "    \n",
    "    plt.xlabel('$x$'); plt.ylabel('$y$')\n",
    "    plt.legend(bbox_to_anchor=(0.7,1))\n",
    "    \n",
    "    # Crtanje konturnog grafika\n",
    "    ax = fig.add_subplot(2,1,2)\n",
    "    ax.contourf(_X, _Y, p.reshape(N,N), 50, cmap='hot', antialiased=False)\n",
    "    \n",
    "    # Srednja vrijednost\n",
    "    ax.scatter(mean[0], mean[1], c='k', label='Očekivanje')\n",
    "    \n",
    "    # Elipsa kovarijanse\n",
    "    ax.plot(elipsa[0], elipsa[1], label='Elipsa kovarijanse')\n",
    "    \n",
    "    plt.legend(bbox_to_anchor=(1.02,1.02), framealpha=1); plt.show()\n",
    "    step = diff(xlim)*diff(ylim)/N**2"
   ]
  },
  {
   "cell_type": "code",
   "execution_count": 80,
   "metadata": {
    "scrolled": false
   },
   "outputs": [
    {
     "data": {
      "application/vnd.jupyter.widget-view+json": {
       "model_id": "5f0dbc02804a47d189b236b2bb9fa2e3",
       "version_major": 2,
       "version_minor": 0
      },
      "text/plain": [
       "interactive(children=(FloatSlider(value=0.0, description='meanX', max=10.0, min=-10.0, step=0.05), FloatSlider…"
      ]
     },
     "metadata": {},
     "output_type": "display_data"
    }
   ],
   "source": [
    "def vizualizacija_multivar_gauss(meanX, meanY, varX, varY, covXY, N=100):\n",
    "    mean = [meanX, meanY]\n",
    "    cov = [[varX, covXY],[covXY, varY]]\n",
    "    plot_multivariate_gaussian(mean, cov, N)\n",
    "    \n",
    "meanX=FloatSlider(0, min=-10, max=10, step=0.05)\n",
    "meanY=FloatSlider(0, min=-10, max=10, step=0.05)\n",
    "varX=FloatSlider(1, min=0.001, max=20, step=0.05)\n",
    "varY=FloatSlider(1, min=0.001, max=20, step=0.05)\n",
    "covXY=FloatSlider(0, min=-0.9999, max=0.9999, step=0.05)\n",
    "N=IntSlider(30, min=1, max=200)\n",
    "\n",
    "def on_change(change):\n",
    "    val = sqrt(varX.value * varY.value)\n",
    "    covXY.min = -val + 0.001\n",
    "    covXY.max = val - 0.001\n",
    "    \n",
    "varX.observe(on_change, 'value')\n",
    "varY.observe(on_change, 'value')\n",
    "    \n",
    "interact(vizualizacija_multivar_gauss, meanX=meanX, meanY=meanY,\n",
    "         varX=varX, varY=varY, covXY=covXY, N=N);"
   ]
  }
 ],
 "metadata": {
  "kernelspec": {
   "display_name": "Python 3",
   "language": "python",
   "name": "python3"
  },
  "language_info": {
   "codemirror_mode": {
    "name": "ipython",
    "version": 3
   },
   "file_extension": ".py",
   "mimetype": "text/x-python",
   "name": "python",
   "nbconvert_exporter": "python",
   "pygments_lexer": "ipython3",
   "version": "3.9.0"
  }
 },
 "nbformat": 4,
 "nbformat_minor": 4
}
