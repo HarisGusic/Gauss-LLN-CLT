{
 "cells": [
  {
   "cell_type": "markdown",
   "metadata": {},
   "source": [
    "# Centralni granični teorem"
   ]
  },
  {
   "cell_type": "code",
   "execution_count": 1,
   "metadata": {},
   "outputs": [],
   "source": [
    "import numpy as np; from numpy import *\n",
    "import numpy.random as rnd;\n",
    "import matplotlib.pyplot as plt\n",
    "import ipywidgets as widgets; from ipywidgets import *\n",
    "from shared import *\n",
    "from gauss import *\n",
    "from clt import *\n",
    "from matplotlib import rc\n",
    "rc('text', usetex=True)\n",
    "rc('font', size=14)"
   ]
  },
  {
   "cell_type": "markdown",
   "metadata": {},
   "source": [
    "## Binomna raspodjela"
   ]
  },
  {
   "cell_type": "code",
   "execution_count": 2,
   "metadata": {},
   "outputs": [
    {
     "data": {
      "application/vnd.jupyter.widget-view+json": {
       "model_id": "343aa9dbfaba48b683ea01f3ddb2e68f",
       "version_major": 2,
       "version_minor": 0
      },
      "text/plain": [
       "interactive(children=(IntSlider(value=1, description='n', min=1), Dropdown(description='approx', options=('Aut…"
      ]
     },
     "metadata": {},
     "output_type": "display_data"
    }
   ],
   "source": [
    "def visualize_binomial(n, approx):\n",
    "    plot_binomial(n ,approx)\n",
    "    plt.plot()\n",
    "    \n",
    "interact(visualize_binomial,\n",
    "         n=IntSlider(1,1,100),\n",
    "         approx=['Auto', 'True', 'False']);"
   ]
  },
  {
   "cell_type": "markdown",
   "metadata": {},
   "source": [
    "## Degeneracija normalne raspodjele u delta funkciju"
   ]
  },
  {
   "cell_type": "code",
   "execution_count": 3,
   "metadata": {},
   "outputs": [
    {
     "data": {
      "application/vnd.jupyter.widget-view+json": {
       "model_id": "bbe3a7e8931c438caa2b72fa535c9ba7",
       "version_major": 2,
       "version_minor": 0
      },
      "text/plain": [
       "interactive(children=(IntSlider(value=1, description='n', max=200, min=1), Output()), _dom_classes=('widget-in…"
      ]
     },
     "metadata": {},
     "output_type": "display_data"
    }
   ],
   "source": [
    "def visualize_degenerate(n):\n",
    "    plot_degenerate([n])\n",
    "    plt.show()\n",
    "\n",
    "interact(visualize_degenerate, n=IntSlider(1, min=1, max=200));"
   ]
  },
  {
   "cell_type": "markdown",
   "metadata": {},
   "source": [
    "## Višestruka konvolucija signala"
   ]
  },
  {
   "cell_type": "code",
   "execution_count": 4,
   "metadata": {
    "scrolled": false
   },
   "outputs": [
    {
     "data": {
      "application/vnd.jupyter.widget-view+json": {
       "model_id": "5b343795666c4c5abb17587050edb0aa",
       "version_major": 2,
       "version_minor": 0
      },
      "text/plain": [
       "interactive(children=(IntSlider(value=1, description='n', max=20, min=1), Dropdown(description='tip', options=…"
      ]
     },
     "metadata": {},
     "output_type": "display_data"
    }
   ],
   "source": [
    "def visualize_convolution(n, tip):\n",
    "    # Ulazna funkcija\n",
    "    plt.subplot(2,1,1)\n",
    "    f = gen_fun(tip)\n",
    "    plot_fun(f)\n",
    "    \n",
    "    # Konvolucija\n",
    "    plt.subplot(2,1,2)\n",
    "    plot_convolution(f, n)\n",
    "    plt.tight_layout(); plt.show()\n",
    "    \n",
    "# Napomena: Povećavanje n iznad preporučenog maksimuma može dovesti do\n",
    "# numeričkih problema\n",
    "interact(visualize_convolution, n=IntSlider(1, min=1, max=20),\n",
    "         tip=['rect', 'noise_uniform', 'noise_exp', 'exp', 'exp2']);"
   ]
  },
  {
   "cell_type": "markdown",
   "metadata": {},
   "source": [
    "## Bonus"
   ]
  },
  {
   "cell_type": "code",
   "execution_count": 7,
   "metadata": {},
   "outputs": [
    {
     "data": {
      "application/vnd.jupyter.widget-view+json": {
       "model_id": "133132f17c03424b9e70372b732f3677",
       "version_major": 2,
       "version_minor": 0
      },
      "text/plain": [
       "interactive(children=(IntSlider(value=2, description='n', max=10, min=2, step=2), Dropdown(description='tip', …"
      ]
     },
     "metadata": {},
     "output_type": "display_data"
    }
   ],
   "source": [
    "# Fourierova transformacija\n",
    "import scipy.fft as fft\n",
    "\n",
    "def fft_n(n, tip):\n",
    "    x = gen_fun(tip)\n",
    "    w = arange(-50, 50)\n",
    "    \n",
    "    X = sinc(w)\n",
    "    X = abs(fft.fftshift(fft.fft(x)))\n",
    "    Y = X**n / 100\n",
    "    Y_approx = approx_gaussian(w, Y)\n",
    "\n",
    "    plt.subplot(2,1,1)\n",
    "    plt.plot(arange(-50, 50), x)\n",
    "    plt.subplot(2,1,2)\n",
    "    plt.plot(w, Y_approx, label='Aproksimacija')\n",
    "    plt.plot(w, abs(Y), label='F.T.')\n",
    "    plt.legend(bbox_to_anchor=(0.55,1), framealpha=1); plt.show()\n",
    "    \n",
    "interact(fft_n,\n",
    "         n=widgets.IntSlider(2, 2, 10, step=2),\n",
    "         tip=['rect', 'noise_uniform', 'noise_exp', 'exp']\n",
    "         );"
   ]
  }
 ],
 "metadata": {
  "kernelspec": {
   "display_name": "Python 3",
   "language": "python",
   "name": "python3"
  },
  "language_info": {
   "codemirror_mode": {
    "name": "ipython",
    "version": 3
   },
   "file_extension": ".py",
   "mimetype": "text/x-python",
   "name": "python",
   "nbconvert_exporter": "python",
   "pygments_lexer": "ipython3",
   "version": "3.9.0"
  }
 },
 "nbformat": 4,
 "nbformat_minor": 4
}
