{
 "cells": [
  {
   "cell_type": "markdown",
   "metadata": {},
   "source": [
    "# Centralni granični teorem"
   ]
  },
  {
   "cell_type": "code",
   "execution_count": 1,
   "metadata": {},
   "outputs": [],
   "source": [
    "import numpy as np; from numpy import *\n",
    "import numpy.random as rnd;\n",
    "import matplotlib.pyplot as plt\n",
    "import ipywidgets as widgets; from ipywidgets import *\n",
    "from shared import *\n",
    "from gauss import *\n",
    "from clt import *\n",
    "from matplotlib import rc\n",
    "rc('text', usetex=True)\n",
    "rc('font', size=14)"
   ]
  },
  {
   "cell_type": "code",
   "execution_count": 2,
   "metadata": {},
   "outputs": [
    {
     "data": {
      "application/vnd.jupyter.widget-view+json": {
       "model_id": "0381704bad99444a85b72830a3bba672",
       "version_major": 2,
       "version_minor": 0
      },
      "text/plain": [
       "interactive(children=(IntSlider(value=1, description='n', min=1), Dropdown(description='approx', options=('Aut…"
      ]
     },
     "metadata": {},
     "output_type": "display_data"
    }
   ],
   "source": [
    "def visualize_binomial(n, approx):\n",
    "    plot_binomial(n ,approx)\n",
    "    plt.plot()\n",
    "interact(visualize_binomial,\n",
    "         n=IntSlider(1,1,100),\n",
    "         approx=['Auto', 'True', 'False']);"
   ]
  },
  {
   "cell_type": "code",
   "execution_count": 3,
   "metadata": {
    "scrolled": true
   },
   "outputs": [
    {
     "data": {
      "application/vnd.jupyter.widget-view+json": {
       "model_id": "ea192341a2b1419383d8712b493579f0",
       "version_major": 2,
       "version_minor": 0
      },
      "text/plain": [
       "interactive(children=(IntSlider(value=10, description='N1', min=1), Output()), _dom_classes=('widget-interact'…"
      ]
     },
     "metadata": {},
     "output_type": "display_data"
    }
   ],
   "source": [
    "def clt(N1):\n",
    "    N = 100000 # Veličina populacije\n",
    "    #N1 = 2 # Veličina slučajnog uzorka\n",
    "    rv_x = rnd.rayleigh(1, size=N) # Populacija\n",
    "\n",
    "    N_uzoraka = int(N / N1)\n",
    "\n",
    "    # Niz koji će sadržavati srednje vrijednosti svakog uzorka\n",
    "    means = empty(N_uzoraka);\n",
    "    rv_mean = rv_x.mean()\n",
    "\n",
    "    rnd_pop = rnd.choice(range(N), N, replace=False)\n",
    "\n",
    "    for i in range(N_uzoraka):\n",
    "        means[i] = rv_x[rnd_pop[i*N1:min((i+1)*N1, N)]].mean()\n",
    "\n",
    "    print(rv_mean, means.mean())\n",
    "\n",
    "    plt.hist(rv_x, bins=40, density=True, label='X')\n",
    "    plt.hist(means, bins=40, density=True, label='Means')\n",
    "    plt.plot([rv_mean, rv_mean], array(plt.ylim()))\n",
    "    plt.legend()\n",
    "    plt.show()\n",
    "interact(clt, N1=IntSlider(10, min=1, max=100));"
   ]
  },
  {
   "cell_type": "code",
   "execution_count": 4,
   "metadata": {
    "scrolled": false
   },
   "outputs": [
    {
     "data": {
      "application/vnd.jupyter.widget-view+json": {
       "model_id": "d642c0bd845d448bb90dcd86c9362baa",
       "version_major": 2,
       "version_minor": 0
      },
      "text/plain": [
       "interactive(children=(IntSlider(value=1000, description='N1', max=10000, min=1000), Output()), _dom_classes=('…"
      ]
     },
     "metadata": {},
     "output_type": "display_data"
    }
   ],
   "source": [
    "interact(clt, N1=IntSlider(min=1000, max=10000));"
   ]
  },
  {
   "cell_type": "code",
   "execution_count": 5,
   "metadata": {},
   "outputs": [
    {
     "name": "stdout",
     "output_type": "stream",
     "text": [
      "[1 2 3 1 2 3]\n"
     ]
    }
   ],
   "source": [
    "## Osobina konvolucije (TODO name)\n",
    "A = [1,2,3]\n",
    "print(concatenate((A,A)))"
   ]
  },
  {
   "cell_type": "code",
   "execution_count": 6,
   "metadata": {
    "scrolled": false
   },
   "outputs": [
    {
     "data": {
      "application/vnd.jupyter.widget-view+json": {
       "model_id": "08d55dae30ea4b93a4939868579dfe91",
       "version_major": 2,
       "version_minor": 0
      },
      "text/plain": [
       "interactive(children=(IntSlider(value=1, description='n', max=20, min=1), Dropdown(description='tip', options=…"
      ]
     },
     "metadata": {},
     "output_type": "display_data"
    }
   ],
   "source": [
    "def visualize_convolution(n, tip):\n",
    "    # Ulazna funkcija\n",
    "    plt.subplot(2,1,1)\n",
    "    f = gen_fun(tip)\n",
    "    plot_fun(f)\n",
    "    \n",
    "    # Konvolucija\n",
    "    plt.subplot(2,1,2)\n",
    "    plot_convolution(f, n)\n",
    "    plt.tight_layout(); plt.show()\n",
    "    \n",
    "# Napomena: Povećavanje n iznad preporučenog maksimuma može dovesti do\n",
    "# numeričkih problema\n",
    "interact(visualize_convolution, n=IntSlider(1, min=1, max=20),\n",
    "         tip=['rect', 'noise_uniform', 'noise_exp', 'exp', 'exp2']);"
   ]
  },
  {
   "cell_type": "markdown",
   "metadata": {},
   "source": [
    "## Obojeno uzorkovanje"
   ]
  },
  {
   "cell_type": "code",
   "execution_count": 7,
   "metadata": {},
   "outputs": [],
   "source": [
    "\"\"\"\n",
    "Izvlačenje uzoraka iz populacije i grafički prikaz.\n",
    "N - Veličina populacije\n",
    "N1 - Veličina uzorka\n",
    "\"\"\"\n",
    "def uzorkovanje(N1, N=1e4, oboji=True, randomiziraj=True, pojedinacni_pdf=True, pdf=False):\n",
    "\n",
    "    Ns = int(N / N1) # Broj uzoraka\n",
    "    N = Ns * N1 # Radi jednostavnosti se N stavlja da bude djeljivo sa N1\n",
    "    x = rnd.uniform(0,1, size=N) # Generisanje populacije\n",
    "\n",
    "    if not randomiziraj:\n",
    "        x = sort(x)\n",
    "        \n",
    "    # Formiranje uzoraka\n",
    "    uzorci = x.reshape(Ns, N1)\n",
    "    \n",
    "    plt.figure()\n",
    "    \n",
    "    # Crtanje populacije (različitim bojama ili sve u istoj boji)\n",
    "    plt.subplot(3,1,1)\n",
    "    if oboji:\n",
    "        for i in range(Ns):\n",
    "            plt.scatter(range(N1), uzorci[i])\n",
    "    else:\n",
    "        plt.scatter(range(N), x)\n",
    "\n",
    "    i = 2 # indeks subplot-a [*] \n",
    "\n",
    "    if pojedinacni_pdf:\n",
    "        plt.subplot(3,1,2)\n",
    "        i = i + 1 # [*] koristi se ovdje\n",
    "        if oboji:\n",
    "            plt.hist(transpose(uzorci), stacked=True, density=True)\n",
    "        else:\n",
    "            plt.hist(x, bins=30)\n",
    "        \n",
    "    # Crtanje srednjih vrijednosti uzoraka\n",
    "    if pdf:\n",
    "        plt.subplot(3,1,i) # [*] koristi se ovdje\n",
    "        plt.hist(mean(uzorci, axis=1), bins=40, density=True)\n",
    "        Ex = x.mean() # Očekivana vrijednost od x\n",
    "        plt.plot([Ex, Ex], list(plt.ylim()), label='Sr.vr. populacije')\n",
    "        Eu = uzorci.mean() # Srednja vrijednost očekivanih vrijednosti populacije\n",
    "        plt.plot([Eu, Eu], list(plt.ylim()), label='Sr.vr. oč. vrijednosti uzoraka')\n",
    "        plt.legend()\n",
    "        \n",
    "    plt.show()\n",
    "    "
   ]
  },
  {
   "cell_type": "code",
   "execution_count": 8,
   "metadata": {},
   "outputs": [
    {
     "data": {
      "image/png": "[encoded data removed]",
      "text/plain": [
       "<Figure size 432x288 with 2 Axes>"
      ]
     },
     "metadata": {
      "needs_background": "light"
     },
     "output_type": "display_data"
    },
    {
     "data": {
      "image/png": "[encoded data removed]",
      "text/plain": [
       "<Figure size 432x288 with 2 Axes>"
      ]
     },
     "metadata": {
      "needs_background": "light"
     },
     "output_type": "display_data"
    }
   ],
   "source": [
    "uzorkovanje(30, 1000, oboji=False)\n",
    "uzorkovanje(30, 1000)"
   ]
  },
  {
   "cell_type": "code",
   "execution_count": 9,
   "metadata": {},
   "outputs": [
    {
     "data": {
      "application/vnd.jupyter.widget-view+json": {
       "model_id": "c959ed8a3a6f4dbfa3bfb98dc9e10f82",
       "version_major": 2,
       "version_minor": 0
      },
      "text/plain": [
       "interactive(children=(IntSlider(value=20, description='N1', max=1000, min=1), IntSlider(value=10000, descripti…"
      ]
     },
     "metadata": {},
     "output_type": "display_data"
    }
   ],
   "source": [
    "interact(uzorkovanje,\n",
    "         N1=IntSlider(20, 1,1000),\n",
    "         N=IntSlider(10000, 1,1e5),\n",
    "         oboji=fixed(False),\n",
    "         randomiziraj=True,\n",
    "         pojedinacni_pdf=fixed(False),\n",
    "         pdf=fixed(True)\n",
    "        );"
   ]
  },
  {
   "cell_type": "code",
   "execution_count": 10,
   "metadata": {},
   "outputs": [
    {
     "data": {
      "application/vnd.jupyter.widget-view+json": {
       "model_id": "5d9613515e534ed38c2ed0ae9fcf7b40",
       "version_major": 2,
       "version_minor": 0
      },
      "text/plain": [
       "interactive(children=(IntSlider(value=2, description='n', max=10, min=2, step=2), Dropdown(description='tip', …"
      ]
     },
     "metadata": {},
     "output_type": "display_data"
    }
   ],
   "source": [
    "# Fourierova transformacija\n",
    "import scipy.fft as fft\n",
    "\n",
    "def fft_n(n, tip):\n",
    "    x = gen_fun(tip)\n",
    "    #w = linspace(-10, 10, 10000)\n",
    "    w = arange(-50, 50)\n",
    "    \n",
    "    \n",
    "    X = sinc(w)\n",
    "    X = abs(fft.fftshift(fft.fft(x)))\n",
    "    Y = X**n / 100\n",
    "    Y_approx = approx_gaussian(w, Y)\n",
    "\n",
    "    plt.subplot(2,1,1)\n",
    "    plt.plot(arange(-50, 50), x)\n",
    "    plt.subplot(2,1,2)\n",
    "    plt.plot(w, Y_approx, label='Aproksimacija')\n",
    "    plt.plot(w, abs(Y), label='F.T.')\n",
    "    plt.legend(bbox_to_anchor=(0.55,1), framealpha=1); plt.show()\n",
    "interact(fft_n,\n",
    "         n=widgets.IntSlider(2, 2, 10, step=2),\n",
    "         tip=['rect', 'noise_uniform', 'noise_exp', 'exp']\n",
    "         );"
   ]
  }
 ],
 "metadata": {
  "kernelspec": {
   "display_name": "Python 3",
   "language": "python",
   "name": "python3"
  },
  "language_info": {
   "codemirror_mode": {
    "name": "ipython",
    "version": 3
   },
   "file_extension": ".py",
   "mimetype": "text/x-python",
   "name": "python",
   "nbconvert_exporter": "python",
   "pygments_lexer": "ipython3",
   "version": "3.9.0"
  }
 },
 "nbformat": 4,
 "nbformat_minor": 4
}
